{
 "cells": [
  {
   "cell_type": "code",
   "execution_count": null,
   "id": "baf35e2b-1d2b-4caf-bc4e-af5532d09231",
   "metadata": {},
   "outputs": [],
   "source": [
    "!pip install git+https://github.com/kryptonite0/python-long-weekends\n",
    "!pip install holidays\n",
    "!pip install calmap"
   ]
  },
  {
   "cell_type": "code",
   "execution_count": 7,
   "id": "75a4c1f8-51d4-4be6-90ff-b37ea013376c",
   "metadata": {},
   "outputs": [
    {
     "name": "stdout",
     "output_type": "stream",
     "text": [
      "The autoreload extension is already loaded. To reload it, use:\n",
      "  %reload_ext autoreload\n"
     ]
    }
   ],
   "source": [
    "%load_ext autoreload\n",
    "%autoreload 2\n",
    "\n",
    "import pandas as pd\n",
    "import holidays as holidays_api\n",
    "from matplotlib import pyplot as plt\n",
    "import matplotlib.patches as mpatches\n",
    "from matplotlib.cm import get_cmap\n",
    "import calmap\n",
    "import numpy as np\n",
    "\n",
    "from long_weekends.long_weekends import spot_holiday_bridges"
   ]
  },
  {
   "cell_type": "code",
   "execution_count": 3,
   "id": "ddf5247a-f1a5-4dea-8b05-ba53cd764892",
   "metadata": {},
   "outputs": [],
   "source": [
    "start = '2021-01-01'\n",
    "end = '2021-12-31'\n",
    "holidays = holidays_api.CH(prov='TI', years=[2020, 2021, 2022])\n",
    "bridges, long_weekends = spot_holiday_bridges(start=start, end=end, holidays=holidays)"
   ]
  },
  {
   "cell_type": "code",
   "execution_count": 4,
   "id": "105ee6e1-a9a8-4515-bb4b-b2ab3a91e8ca",
   "metadata": {},
   "outputs": [
    {
     "data": {
      "text/plain": [
       "[Timestamp('2021-05-14 00:00:00'),\n",
       " Timestamp('2021-06-04 00:00:00'),\n",
       " Timestamp('2021-06-28 00:00:00')]"
      ]
     },
     "execution_count": 4,
     "metadata": {},
     "output_type": "execute_result"
    }
   ],
   "source": [
    "bridges"
   ]
  },
  {
   "cell_type": "code",
   "execution_count": 5,
   "id": "fb921efe-3f94-4cdf-b519-2bcb53624970",
   "metadata": {},
   "outputs": [
    {
     "data": {
      "text/plain": [
       "[Timestamp('2021-01-01 00:00:00'),\n",
       " Timestamp('2021-01-02 00:00:00'),\n",
       " Timestamp('2021-01-03 00:00:00'),\n",
       " Timestamp('2021-03-19 00:00:00'),\n",
       " Timestamp('2021-03-20 00:00:00'),\n",
       " Timestamp('2021-03-21 00:00:00'),\n",
       " Timestamp('2021-04-02 00:00:00'),\n",
       " Timestamp('2021-04-03 00:00:00'),\n",
       " Timestamp('2021-04-04 00:00:00'),\n",
       " Timestamp('2021-04-05 00:00:00'),\n",
       " Timestamp('2021-05-13 00:00:00'),\n",
       " Timestamp('2021-05-14 00:00:00'),\n",
       " Timestamp('2021-05-15 00:00:00'),\n",
       " Timestamp('2021-05-16 00:00:00'),\n",
       " Timestamp('2021-05-22 00:00:00'),\n",
       " Timestamp('2021-05-23 00:00:00'),\n",
       " Timestamp('2021-05-24 00:00:00'),\n",
       " Timestamp('2021-06-03 00:00:00'),\n",
       " Timestamp('2021-06-04 00:00:00'),\n",
       " Timestamp('2021-06-05 00:00:00'),\n",
       " Timestamp('2021-06-06 00:00:00'),\n",
       " Timestamp('2021-06-26 00:00:00'),\n",
       " Timestamp('2021-06-27 00:00:00'),\n",
       " Timestamp('2021-06-28 00:00:00'),\n",
       " Timestamp('2021-06-29 00:00:00'),\n",
       " Timestamp('2021-10-30 00:00:00'),\n",
       " Timestamp('2021-10-31 00:00:00'),\n",
       " Timestamp('2021-11-01 00:00:00')]"
      ]
     },
     "execution_count": 5,
     "metadata": {},
     "output_type": "execute_result"
    }
   ],
   "source": [
    "long_weekends"
   ]
  },
  {
   "cell_type": "code",
   "execution_count": 8,
   "id": "83656285-5fe7-4e40-a5d9-ded3f5c1e00d",
   "metadata": {},
   "outputs": [
    {
     "data": {
      "text/plain": [
       "<AxesSubplot:>"
      ]
     },
     "execution_count": 8,
     "metadata": {},
     "output_type": "execute_result"
    },
    {
     "data": {
      "image/png": "[encoded data removed]",
      "text/plain": [
       "<Figure size 1800x576 with 1 Axes>"
      ]
     },
     "metadata": {
      "needs_background": "light"
     },
     "output_type": "display_data"
    }
   ],
   "source": [
    "fig, ax = plt.subplots(figsize=(25, 8))\n",
    "idx = pd.date_range(start, end)\n",
    "sr = pd.Series(np.zeros(len(idx)) + 0.055, index=idx)\n",
    "sr.loc[sr.index.dayofweek.isin([5, 6])] = 0.\n",
    "sr.loc[sr.index.isin(long_weekends)] = 0.41\n",
    "longwe_patch = mpatches.Patch(color=get_cmap('tab20')(0.41), label='long weekend')\n",
    "sr.loc[sr.index.isin(bridges)] = 0.11\n",
    "bridge_patch = mpatches.Patch(color=get_cmap('tab20')(0.11), label='bridge')\n",
    "sr.loc[sr.index.isin(holidays)] = 0.31\n",
    "holiday_patch = mpatches.Patch(color=get_cmap('tab20')(0.31), label='public holiday')\n",
    "\n",
    "plt.legend(handles=[holiday_patch, bridge_patch, longwe_patch], loc='upper left', borderpad=1, framealpha=0.9)\n",
    "calmap.yearplot(sr, ax=ax, cmap='tab20', linewidth=3, vmin=0, vmax=1)"
   ]
  },
  {
   "cell_type": "code",
   "execution_count": null,
   "id": "e14ce687-5619-4dfa-a607-615cadc68132",
   "metadata": {},
   "outputs": [],
   "source": []
  }
 ],
 "metadata": {
  "kernelspec": {
   "display_name": "Python 3 (ipykernel)",
   "language": "python",
   "name": "python3"
  },
  "language_info": {
   "codemirror_mode": {
    "name": "ipython",
    "version": 3
   },
   "file_extension": ".py",
   "mimetype": "text/x-python",
   "name": "python",
   "nbconvert_exporter": "python",
   "pygments_lexer": "ipython3",
   "version": "3.8.10"
  }
 },
 "nbformat": 4,
 "nbformat_minor": 5
}
